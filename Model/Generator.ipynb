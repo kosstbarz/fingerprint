{
 "cells": [
  {
   "cell_type": "code",
   "execution_count": null,
   "metadata": {},
   "outputs": [],
   "source": [
    "def rejection(y_true, y_pred, b=0):\n",
    "    return np.sum((1 - np.round(y_pred+b)) * y_true)\n",
    "\n",
    "def acceptance(y_true, y_pred, b=0):\n",
    "    return np.sum((1 - y_true) *  np.round(y_pred+b))"
   ]
  },
  {
   "cell_type": "code",
   "execution_count": null,
   "metadata": {
    "scrolled": false
   },
   "outputs": [],
   "source": [
    "rejection(x.label, x.pred), acceptance(x.label, x.pred)"
   ]
  },
  {
   "cell_type": "code",
   "execution_count": null,
   "metadata": {},
   "outputs": [],
   "source": [
    "diff = rejection(x.label, x.pred)- acceptance(x.label, x.pred)\n",
    "diff"
   ]
  },
  {
   "cell_type": "code",
   "execution_count": null,
   "metadata": {},
   "outputs": [],
   "source": [
    "rejection(x.label, x.pred, b=b), acceptance(x.label, x.pred, b=b)"
   ]
  },
  {
   "cell_type": "code",
   "execution_count": null,
   "metadata": {
    "scrolled": true
   },
   "outputs": [],
   "source": [
    "delta = x[x.pred * np.sign(diff) <.5*np.sign(diff)]\n",
    "\n",
    "delta['d'] = 0.5-delta.pred\n",
    "s = delta.sort_values('d')\n",
    "b = (s.iloc[int(diff)].d+s.iloc[int(diff)-1].d)/2\n",
    "b"
   ]
  },
  {
   "cell_type": "code",
   "execution_count": null,
   "metadata": {
    "scrolled": false
   },
   "outputs": [],
   "source": [
    "delta.sort_values('d')"
   ]
  },
  {
   "cell_type": "code",
   "execution_count": 1,
   "metadata": {},
   "outputs": [
    {
     "data": {
      "text/plain": [
       "194"
      ]
     },
     "execution_count": 1,
     "metadata": {},
     "output_type": "execute_result"
    }
   ],
   "source": [
    "%load_ext autoreload\n",
    "%autoreload 2\n",
    "import re\n",
    "import glob\n",
    "p = re.compile('/([0-9]+)')\n",
    "id_list = list({p.search(file).group(1) for file in glob.glob('./../Data/train_db/*')})\n",
    "len(id_list)"
   ]
  },
  {
   "cell_type": "code",
   "execution_count": 2,
   "metadata": {},
   "outputs": [
    {
     "data": {
      "text/plain": [
       "'1073'"
      ]
     },
     "execution_count": 2,
     "metadata": {},
     "output_type": "execute_result"
    }
   ],
   "source": [
    "id_list[4]"
   ]
  },
  {
   "cell_type": "code",
   "execution_count": null,
   "metadata": {
    "scrolled": true
   },
   "outputs": [],
   "source": [
    "import tensorflow as tf\n",
    "a = tf.ones(2)\n",
    "b = tf.zeros(3)\n",
    "s =tf.tile(a, [12])\n",
    "s1 = tf.reshape(s, [12, -1])\n",
    "sh = tf.shape(b)\n",
    "b1, _ = tf.nn.top_k(b,2)\n",
    "c= tf.concat([a,b1], axis=0)\n",
    "with tf.Session() as sess:\n",
    "  d = sess.run([b1, sh, s1])\n",
    "d"
   ]
  },
  {
   "cell_type": "code",
   "execution_count": null,
   "metadata": {},
   "outputs": [],
   "source": [
    "from lib.single_generator import SingleGenerator"
   ]
  },
  {
   "cell_type": "code",
   "execution_count": null,
   "metadata": {
    "scrolled": true
   },
   "outputs": [],
   "source": [
    "s, ls = sg.__getitem__(4)\n",
    "ls"
   ]
  },
  {
   "cell_type": "code",
   "execution_count": null,
   "metadata": {},
   "outputs": [],
   "source": [
    "from sklearn.model_selection import train_test_split\n",
    "s1, s2 = train_test_split(ls, test_size=0.3)\n",
    "len(s1), len(s2) "
   ]
  },
  {
   "cell_type": "code",
   "execution_count": 3,
   "metadata": {},
   "outputs": [
    {
     "data": {
      "text/plain": [
       "52284"
      ]
     },
     "execution_count": 3,
     "metadata": {},
     "output_type": "execute_result"
    }
   ],
   "source": [
    "import glob\n",
    "file_list = [file for file in glob.glob('./../Data/train_db/*')]\n",
    "\n",
    "len(file_list)"
   ]
  },
  {
   "cell_type": "code",
   "execution_count": 4,
   "metadata": {},
   "outputs": [
    {
     "data": {
      "text/plain": [
       "(47055, 5229)"
      ]
     },
     "execution_count": 4,
     "metadata": {},
     "output_type": "execute_result"
    }
   ],
   "source": [
    "from sklearn.model_selection import train_test_split\n",
    "train_files, valid_files = train_test_split(file_list, test_size=0.1)\n",
    "len(train_files), len(valid_files)"
   ]
  },
  {
   "cell_type": "code",
   "execution_count": null,
   "metadata": {},
   "outputs": [],
   "source": [
    "from lib.single_generator import SingleGenerator\n",
    "sg = SingleGenerator(valid_files, id_list=id_list)"
   ]
  },
  {
   "cell_type": "code",
   "execution_count": null,
   "metadata": {},
   "outputs": [],
   "source": [
    "s, ls = sg.__getitem__(4)\n",
    "len(ls[0])"
   ]
  },
  {
   "cell_type": "code",
   "execution_count": 9,
   "metadata": {},
   "outputs": [],
   "source": [
    "from lib.list_generator import ListGenerator\n",
    "lg = ListGenerator(train_files, id_list, debug=True)"
   ]
  },
  {
   "cell_type": "code",
   "execution_count": 12,
   "metadata": {
    "scrolled": true
   },
   "outputs": [
    {
     "name": "stdout",
     "output_type": "stream",
     "text": [
      "First file = ./../Data/train_db/1007_09002.txt\n",
      "Same file = ./../Data/train_db/1007_08006.txt\n",
      "Another file = ./../Data/train_db/0071_04006.txt\n"
     ]
    },
    {
     "data": {
      "text/plain": [
       "1"
      ]
     },
     "execution_count": 12,
     "metadata": {},
     "output_type": "execute_result"
    }
   ],
   "source": [
    "s, ls = lg.__getitem__(4)\n",
    "ls[0]"
   ]
  },
  {
   "cell_type": "code",
   "execution_count": 11,
   "metadata": {
    "scrolled": true
   },
   "outputs": [
    {
     "data": {
      "text/plain": [
       "(32, 32)"
      ]
     },
     "execution_count": 11,
     "metadata": {},
     "output_type": "execute_result"
    }
   ],
   "source": [
    "len(s[0]), len(s[1])"
   ]
  },
  {
   "cell_type": "code",
   "execution_count": 20,
   "metadata": {},
   "outputs": [
    {
     "data": {
      "text/plain": [
       "0"
      ]
     },
     "execution_count": 20,
     "metadata": {},
     "output_type": "execute_result"
    }
   ],
   "source": [
    "ls[31]"
   ]
  },
  {
   "cell_type": "code",
   "execution_count": 19,
   "metadata": {
    "scrolled": true
   },
   "outputs": [
    {
     "data": {
      "text/plain": [
       "array([ 1.11353e+00,  1.66791e+00, -8.57532e-01,  1.06652e+00,\n",
       "       -1.02777e+00,  1.40157e+00, -7.03595e-02, -1.04474e+00,\n",
       "        8.99240e-01, -1.11507e+00,  6.53107e-01,  2.13366e+00,\n",
       "       -3.47951e-01,  5.69208e-01,  7.40644e-01, -7.42274e-02,\n",
       "        4.45251e-01, -8.14747e-01, -6.12337e-01, -8.72586e-01,\n",
       "       -1.80474e+00,  2.24388e-01,  1.86181e+00,  1.19594e+00,\n",
       "       -1.28399e+00, -2.01186e-01, -1.96944e+00, -9.49091e-01,\n",
       "       -1.74049e+00, -2.79279e+00,  1.56234e+00, -3.36224e+00,\n",
       "        2.16378e+00, -1.09784e+00, -6.11149e-01,  2.24154e+00,\n",
       "       -1.94467e-02, -3.12430e-01, -4.59901e-02, -5.96842e-01,\n",
       "        1.93628e+00, -4.16477e-01, -4.85029e-01,  2.36134e+00,\n",
       "        1.79863e+00, -2.22332e-01, -2.17524e+00,  1.56993e+00,\n",
       "        2.49529e+00,  9.39548e-01, -7.82049e-01, -1.14475e+00,\n",
       "        1.05417e+00,  1.02420e+00, -1.88752e-01, -1.49468e+00,\n",
       "        6.99278e-02,  1.41610e+00, -1.13894e+00, -4.70572e-02,\n",
       "       -1.66920e+00,  9.44267e-01,  7.69924e-01, -2.08411e-01,\n",
       "        7.62188e-01, -8.20082e-01, -6.42631e-01, -5.61880e-01,\n",
       "        9.69746e-01,  1.40273e+00, -9.32349e-01,  4.29818e-01,\n",
       "        5.48420e-01,  1.03396e+00,  4.07344e-01,  8.58649e-01,\n",
       "       -5.48998e-01, -1.53026e+00,  4.94409e-01,  7.34396e-01,\n",
       "       -2.62654e+00,  1.53900e+00, -6.81798e-01,  3.27605e-01,\n",
       "       -6.48374e-02,  1.03183e+00, -4.50331e-01, -1.33372e+00,\n",
       "       -8.56625e-01, -8.66177e-01, -1.93890e-01, -2.70184e-01,\n",
       "        1.09719e+00,  1.47900e+00,  1.62402e-01,  2.08568e-01,\n",
       "       -4.16366e-01, -5.31612e-01, -1.46261e-01, -3.63423e-01,\n",
       "       -7.28337e-01,  3.76664e-01,  1.23642e+00, -1.00279e+00,\n",
       "       -6.93290e-01,  7.04623e-01,  1.10893e+00, -2.32609e+00,\n",
       "       -2.93981e-01, -2.67689e-01,  3.56966e-01, -8.10384e-01,\n",
       "       -8.18140e-01, -6.88409e-02,  6.75792e-02,  8.61067e-01,\n",
       "        1.01338e+00,  1.29087e+00,  6.02066e-01, -4.66348e-02,\n",
       "        1.26742e+00, -2.25242e-01,  4.65297e-01, -5.34681e-01,\n",
       "        1.74121e-01,  3.77915e-01, -2.00238e-02, -3.14105e-01,\n",
       "       -6.33391e-02, -8.92087e-01, -2.02375e-01,  1.04217e+00,\n",
       "       -4.68004e-01,  2.46272e+00, -8.57179e-01, -2.99215e-01,\n",
       "        7.11312e-01,  3.20252e-02,  5.62108e-01, -1.52986e-01,\n",
       "        1.76021e-02,  1.18791e+00,  4.54832e-01, -5.19099e-01,\n",
       "       -9.56584e-01, -3.06363e-01,  4.50066e-02,  1.12865e-02,\n",
       "        6.39800e-01,  1.08278e+00, -1.32495e-01, -2.12480e-01,\n",
       "       -2.23782e-01, -1.14400e+00,  1.22091e-01, -1.05639e+00,\n",
       "       -2.28521e-01, -3.27068e-01,  1.90408e-01,  9.25025e-01,\n",
       "        1.04298e+00, -2.80854e-01,  2.01869e-01,  6.05722e-01,\n",
       "       -5.45866e-01,  4.13541e-01,  7.98999e-01, -1.46260e-01,\n",
       "       -4.47694e-02,  7.41535e-01, -5.53427e-02,  1.43239e-01,\n",
       "       -1.33313e-01, -1.01063e+00,  1.12551e+00,  9.11350e-01,\n",
       "       -1.05943e-01, -1.06261e-01,  4.49624e-01,  7.31846e-01,\n",
       "       -1.47760e+00, -8.01070e-01,  4.45425e-01,  6.94554e-01,\n",
       "       -9.00312e-01, -2.24630e-02,  6.60211e-02, -8.70353e-01,\n",
       "       -8.10925e-02, -9.49169e-02, -1.10610e-01,  1.72922e-01,\n",
       "        5.04692e-01,  6.03343e-01,  8.77389e-01, -4.88845e-01,\n",
       "        3.92684e-01,  3.59167e-02,  9.16435e-01,  5.26299e-01,\n",
       "       -1.10119e-01, -8.93895e-01,  1.88676e-01, -5.72461e-01,\n",
       "        1.57757e-01, -1.15151e+00,  8.94625e-02, -3.57742e-01,\n",
       "       -4.16145e-01, -8.67970e-01,  6.46067e-01, -2.58292e-01,\n",
       "        5.36333e-01, -9.69553e-02,  1.38712e-01,  8.28741e-02,\n",
       "       -1.04560e+00, -4.17813e-01,  2.50327e-02,  2.92467e-01,\n",
       "        3.91410e-01,  1.43438e-01,  2.14179e-01,  7.98944e-01,\n",
       "       -3.33933e-01, -1.04598e-02, -1.82650e-01,  5.34361e-01,\n",
       "       -8.56026e-01,  3.32147e-01, -3.31684e-03, -2.86872e-01,\n",
       "        5.89847e-01,  4.16038e-01,  2.72289e-01, -3.05964e-01,\n",
       "        4.62266e-01, -2.84513e-02, -1.78238e-01,  6.15966e-02,\n",
       "       -1.09169e+00, -3.32120e-01, -4.19135e-01,  2.25743e-01,\n",
       "        1.46090e-01, -2.12722e-01, -3.61007e-01, -3.03117e-01,\n",
       "        1.99955e-01, -2.28132e-01, -3.56808e-01,  2.09157e-01,\n",
       "       -3.61365e-01, -3.22393e-01, -2.10442e-01,  3.02026e-01,\n",
       "       -7.51730e-02,  4.06061e-01, -1.07096e-01, -3.20142e-01,\n",
       "        1.12011e-01,  2.94659e-01,  1.78565e-01,  8.95971e-02,\n",
       "       -1.18705e-01,  2.40372e-02,  8.46211e-02, -9.28369e-02,\n",
       "       -3.63694e-01,  2.57947e-02, -3.05574e-01, -1.26062e-01,\n",
       "        2.19178e-01,  6.28217e-01, -8.68129e-01,  4.94246e-01,\n",
       "       -4.47936e-01,  1.49274e-01,  7.61973e-02, -1.34000e-01,\n",
       "        4.17447e-01, -3.33721e-01, -9.58668e-02, -2.21276e-01,\n",
       "       -2.81946e-01, -2.69217e-01,  8.09349e-02,  1.63678e-01,\n",
       "       -1.59444e-01, -1.58473e-01, -3.39626e-01,  7.63792e-01,\n",
       "       -1.31603e-01, -8.49848e-02, -3.34034e-01,  2.30220e-01,\n",
       "        4.12868e-01, -2.39132e-01,  3.25679e-01, -6.32034e-02,\n",
       "        6.33824e-03,  6.00816e-01,  4.97698e-01,  3.08223e-01,\n",
       "       -5.49148e-02,  2.39334e-01,  2.73599e-01,  3.42229e-01,\n",
       "        2.64703e-01,  1.55906e-01,  1.10522e-01, -3.04051e-01,\n",
       "       -6.44362e-01,  1.34317e-01,  3.34888e-01,  4.60245e-01,\n",
       "        3.39219e-01, -5.22281e-01, -1.74878e-01,  4.02361e-02,\n",
       "       -7.09009e-02,  1.43299e-01, -7.43011e-02,  3.14057e-01,\n",
       "        4.83898e-01, -1.94350e-01,  3.75175e-01,  3.14126e-01,\n",
       "        7.47679e-02, -8.37553e-02, -4.24956e-02, -5.50086e-02,\n",
       "        2.21354e-01,  1.26024e-01, -5.89176e-02,  7.95539e-02,\n",
       "        4.34654e-02,  1.22874e-01,  4.22570e-01,  1.19285e-01,\n",
       "       -1.73700e-01, -2.69543e-01,  1.07707e-01, -2.39787e-01,\n",
       "        1.74598e-01,  3.28981e-02, -4.99326e-01, -1.37396e-03,\n",
       "        8.36643e-02, -4.30742e-02,  6.84731e-02,  1.72854e-01,\n",
       "       -1.59392e-01,  1.19354e-02, -1.24129e-01, -3.76048e-02,\n",
       "       -8.50241e-02, -2.49419e-01, -4.37502e-02, -2.20534e-01,\n",
       "       -1.43829e-01,  1.60458e-02,  2.73953e-02, -2.14799e-02,\n",
       "       -3.54412e-02,  5.69503e-02, -7.06329e-02, -1.26423e-01,\n",
       "        2.12221e-01, -3.00044e-01,  2.59943e-01,  1.93855e-01,\n",
       "       -1.56970e-01, -6.37569e-02, -1.01491e-01,  2.45804e-02,\n",
       "        1.02754e-01, -4.10495e-02,  2.17001e-02, -8.40903e-02,\n",
       "        1.06913e-02,  8.97997e-02, -2.57255e-02, -1.15073e-01,\n",
       "        1.31317e-01, -4.38701e-02, -8.42123e-03,  1.35360e-01,\n",
       "       -2.58020e-01, -1.03691e-01, -1.12229e-01, -1.38785e-01,\n",
       "        2.16326e-01, -5.19395e-02,  1.33875e-02,  8.87143e-03,\n",
       "        3.82857e-03, -6.75267e-02, -1.10835e-01, -1.64114e-01])"
      ]
     },
     "execution_count": 19,
     "metadata": {},
     "output_type": "execute_result"
    }
   ],
   "source": [
    "s[1][31]"
   ]
  },
  {
   "cell_type": "code",
   "execution_count": null,
   "metadata": {},
   "outputs": [],
   "source": [
    "from keras.models import Sequential, Model\n",
    "from keras import regularizers\n",
    "from keras.layers import Input, Dense, Activation, Dropout, BatchNormalization, Concatenate\n",
    "a1 = Input(shape=(400,))\n",
    "a2 = Input(shape=(400,))\n",
    "\n",
    "resh = Concatenate(axis=-1)([a1, a2])\n",
    "j = Dense(20)(resh)\n",
    "i = BatchNormalization()(j)\n",
    "k = Activation('relu')(i)\n",
    "l = Dense(1)(k)\n",
    "res = Activation('sigmoid')(l)\n",
    "compiled_model = Model(inputs=[a1, a2], outputs=[res])\n",
    "\n",
    "compiled_model.compile(optimizer='rmsprop',\n",
    "              loss='binary_crossentropy',\n",
    "              metrics=['accuracy'])\n",
    "\n",
    "compiled_history = compiled_model.fit_generator(generator=lg,\n",
    "                    validation_data=lg,\n",
    "                    epochs=1, steps_per_epoch=20, validation_steps=10 )"
   ]
  },
  {
   "cell_type": "code",
   "execution_count": null,
   "metadata": {},
   "outputs": [],
   "source": []
  }
 ],
 "metadata": {
  "kernelspec": {
   "display_name": "Python 3",
   "language": "python",
   "name": "python3"
  },
  "language_info": {
   "codemirror_mode": {
    "name": "ipython",
    "version": 3
   },
   "file_extension": ".py",
   "mimetype": "text/x-python",
   "name": "python",
   "nbconvert_exporter": "python",
   "pygments_lexer": "ipython3",
   "version": "3.6.3"
  }
 },
 "nbformat": 4,
 "nbformat_minor": 2
}
