{
 "cells": [
  {
   "cell_type": "code",
   "execution_count": 1,
   "metadata": {
    "scrolled": false
   },
   "outputs": [
    {
     "name": "stderr",
     "output_type": "stream",
     "text": [
      "Using TensorFlow backend.\n"
     ]
    }
   ],
   "source": [
    "%load_ext autoreload\n",
    "%autoreload 2\n",
    "import numpy as np\n",
    "import pandas as pd\n",
    "import glob\n",
    "import re\n",
    "import tensorflow as tf\n",
    "from matplotlib import pyplot as plt\n",
    "from lib.generator import DataGenerator\n",
    "from lib.list_generator import ListGenerator, ListGenerator2\n",
    "from sklearn.model_selection import train_test_split\n",
    "from keras.models import Sequential, Model\n",
    "from keras import regularizers\n",
    "from keras.layers import Input, Dense, Activation, Dropout, BatchNormalization, Concatenate\n",
    "\n",
    "%matplotlib inline"
   ]
  },
  {
   "cell_type": "code",
   "execution_count": 2,
   "metadata": {
    "scrolled": true
   },
   "outputs": [
    {
     "data": {
      "text/plain": [
       "(2428, 400)"
      ]
     },
     "execution_count": 2,
     "metadata": {},
     "output_type": "execute_result"
    }
   ],
   "source": [
    "# MEAN and STANDARD DIVIASION\n",
    "p = re.compile('/([0-9]+)')\n",
    "l = []\n",
    "for file in glob.glob('./../Data/train_db/000*'):\n",
    "    l1 = pd.read_csv(file, delimiter=' ', header=None)\n",
    "    l1 = l1.iloc[:,2:-1] # Remove rows with '[' and ']'\n",
    "    #l1['id'] = p.search(file).group(1)\n",
    "    l.append(l1)\n",
    "train_raw = pd.concat(l, axis=0)\n",
    "\n",
    "mean = train_raw.mean()\n",
    "disper = train_raw.std()\n",
    "train_raw.shape"
   ]
  },
  {
   "cell_type": "code",
   "execution_count": 3,
   "metadata": {},
   "outputs": [
    {
     "data": {
      "text/plain": [
       "194"
      ]
     },
     "execution_count": 3,
     "metadata": {},
     "output_type": "execute_result"
    }
   ],
   "source": [
    "# ID_LIST\n",
    "p = re.compile('/([0-9]+)')\n",
    "id_list = list({p.search(file).group(1) for file in glob.glob('./../Data/train_db/*')})\n",
    "len(id_list)"
   ]
  },
  {
   "cell_type": "code",
   "execution_count": null,
   "metadata": {},
   "outputs": [],
   "source": [
    "def data_prep(df):\n",
    "    df['key'] = 1\n",
    "    df1 = df.copy(deep=True)\n",
    "    #df['id'] = df.id\n",
    "    df1['id1'] = df1.id\n",
    "    del df1['id']\n",
    "    df2 = pd.merge(df, df1, on='key')\n",
    "    del df2['key']\n",
    "    df2['label'] = (df2.id == df2.id1)\n",
    "    return df2"
   ]
  },
  {
   "cell_type": "code",
   "execution_count": null,
   "metadata": {},
   "outputs": [],
   "source": [
    "#*******************************\n",
    "train_id_list = id_list[:140]\n",
    "valid_id_list = id_list[140:]\n",
    "len(train_id_list), len(valid_id_list), len(id_list)"
   ]
  },
  {
   "cell_type": "code",
   "execution_count": null,
   "metadata": {},
   "outputs": [],
   "source": [
    "\n",
    "train_gen=DataGenerator(train_id_list, mean=mean, disper=disper)\n",
    "valid_gen=DataGenerator(valid_id_list, mean=mean, disper=disper)"
   ]
  },
  {
   "cell_type": "code",
   "execution_count": null,
   "metadata": {},
   "outputs": [],
   "source": [
    "a = train_gen.__getitem__(0)\n",
    "type(a[1].values)"
   ]
  },
  {
   "cell_type": "code",
   "execution_count": 4,
   "metadata": {},
   "outputs": [],
   "source": [
    "from keras import backend as K\n",
    "def rejection(y_true, y_pred, b=0):\n",
    "    return K.mean((1 - K.round(y_pred+b)) * y_true)\n",
    "\n",
    "def acceptance(y_true, y_pred, b=0):\n",
    "    return K.mean((1 - y_true) *  K.round(y_pred+b))\n",
    "\n",
    "def eer(y_true, y_pred):\n",
    "    rej = tf.reduce_sum((1 - tf.round(y_pred)) * y_true)\n",
    "    accept = tf.reduce_sum((1 - y_true) *  tf.round(y_pred))\n",
    "    diff = rej - accept\n",
    "    diffm = tf.abs(diff)\n",
    "    #delta = y_pred[y_pred * K.sign(diff) < 0.5*K.sign(diff)]\n",
    "    delta = tf.boolean_mask(y_pred, y_pred * K.sign(diff) <0.5*K.sign(diff))\n",
    "    ones = tf.ones(2)\n",
    "    d = tf.concat([ones, tf.abs(0.5-delta)], axis=0)\n",
    "\n",
    "    s1, _ = tf.nn.top_k(-1*d, tf.cast(diffm, dtype='int32')+1)\n",
    "    s11 = -1*s1\n",
    "    s2 = tf.concat([ones, s11], axis=0)\n",
    "    s = (s2[-1] + s2[-2]) /2\n",
    "    b = s * tf.sign(diff)\n",
    "    res = K.mean(K.equal(y_true, tf.round(y_pred+b)))\n",
    "    return res\n",
    "    \n",
    "def np_eer(y_true, y_pred):\n",
    "    rej = np.sum((1 - np.round(y_pred)) * y_true)\n",
    "    accept = np.sum((1 - y_true) *  np.round(y_pred))\n",
    "    print('rej=%s, acc=%s' %(rej,accept))\n",
    "    diff = rej - accept\n",
    "    delta = y_pred[y_pred * np.sign(diff) <.5*np.sign(diff)]\n",
    "    d = 0.5-delta\n",
    "    print(d)\n",
    "    s1 = np.sort(d)\n",
    "    print(s1)\n",
    "    b = (s1[int(diff)]+s1[int(diff)-1])/2\n",
    "    res = np.mean(np.equal(y_true, np.round(y_pred+b)))\n",
    "    return res"
   ]
  },
  {
   "cell_type": "code",
   "execution_count": null,
   "metadata": {},
   "outputs": [],
   "source": [
    "model.compile(optimizer='rmsprop',\n",
    "              loss='binary_crossentropy',\n",
    "              metrics=['accuracy',rejection, acceptance, eer])"
   ]
  },
  {
   "cell_type": "code",
   "execution_count": null,
   "metadata": {
    "scrolled": true
   },
   "outputs": [],
   "source": [
    "history = model.fit_generator(generator=train_gen,\n",
    "                    validation_data=valid_gen,\n",
    "                    epochs=50 )"
   ]
  },
  {
   "cell_type": "code",
   "execution_count": null,
   "metadata": {
    "scrolled": true
   },
   "outputs": [],
   "source": [
    "plt.plot(history.history['eer'])\n",
    "plt.plot(history.history['val_eer'])\n",
    "plt.show()"
   ]
  },
  {
   "cell_type": "code",
   "execution_count": null,
   "metadata": {},
   "outputs": [],
   "source": [
    "history.history['rejection']"
   ]
  },
  {
   "cell_type": "code",
   "execution_count": null,
   "metadata": {},
   "outputs": [],
   "source": [
    "res = model.evaluate_generator(valid_gen)"
   ]
  },
  {
   "cell_type": "code",
   "execution_count": null,
   "metadata": {},
   "outputs": [],
   "source": [
    "pred = model.predict_generator(valid_gen)"
   ]
  },
  {
   "cell_type": "code",
   "execution_count": null,
   "metadata": {},
   "outputs": [],
   "source": []
  },
  {
   "cell_type": "code",
   "execution_count": 5,
   "metadata": {},
   "outputs": [
    {
     "data": {
      "text/plain": [
       "52284"
      ]
     },
     "execution_count": 5,
     "metadata": {},
     "output_type": "execute_result"
    }
   ],
   "source": [
    "# *** SINGLE MODEL ***\n",
    "file_list = [file for file in glob.glob('./../Data/train_db/*')]\n",
    "len(file_list)"
   ]
  },
  {
   "cell_type": "code",
   "execution_count": 6,
   "metadata": {
    "scrolled": false
   },
   "outputs": [
    {
     "data": {
      "text/plain": [
       "(39213, 13071)"
      ]
     },
     "execution_count": 6,
     "metadata": {},
     "output_type": "execute_result"
    }
   ],
   "source": [
    "train_files, valid_files = train_test_split(file_list, test_size=0.25)\n",
    "len(train_files), len(valid_files)"
   ]
  },
  {
   "cell_type": "code",
   "execution_count": 7,
   "metadata": {},
   "outputs": [],
   "source": [
    "from lib.single_generator import SingleGenerator\n",
    "single_train_gen = SingleGenerator(train_files, id_list=id_list, mean=mean, disper=disper)\n",
    "single_valid_gen = SingleGenerator(valid_files, id_list=id_list, mean=mean, disper=disper)"
   ]
  },
  {
   "cell_type": "code",
   "execution_count": 8,
   "metadata": {},
   "outputs": [],
   "source": [
    "single_model = Sequential()\n",
    "single_model.add(Dense(200, input_dim=400))\n",
    "single_model.add(BatchNormalization())\n",
    "single_model.add(Activation('relu'))\n",
    "single_model.add(Dense(50))\n",
    "single_model.add(BatchNormalization())\n",
    "single_model.add(Activation('relu'))\n",
    "single_model.add(Dense(194))\n",
    "single_model.add(Activation('softmax'))"
   ]
  },
  {
   "cell_type": "code",
   "execution_count": 9,
   "metadata": {},
   "outputs": [],
   "source": [
    "single_model.compile(optimizer='rmsprop',\n",
    "              loss='categorical_crossentropy',\n",
    "              metrics=['accuracy'])"
   ]
  },
  {
   "cell_type": "code",
   "execution_count": 10,
   "metadata": {
    "scrolled": true
   },
   "outputs": [
    {
     "name": "stdout",
     "output_type": "stream",
     "text": [
      "Epoch 1/20\n",
      "200/200 [==============================] - 107s 536ms/step - loss: 4.9527 - acc: 0.0617 - val_loss: 4.4602 - val_acc: 0.1328\n",
      "Epoch 2/20\n",
      "200/200 [==============================] - 105s 524ms/step - loss: 3.9660 - acc: 0.2600 - val_loss: 3.3798 - val_acc: 0.3547\n",
      "Epoch 3/20\n",
      "200/200 [==============================] - 98s 490ms/step - loss: 2.8950 - acc: 0.4816 - val_loss: 2.3981 - val_acc: 0.5469\n",
      "Epoch 4/20\n",
      "200/200 [==============================] - 96s 481ms/step - loss: 1.9686 - acc: 0.6483 - val_loss: 1.5411 - val_acc: 0.7078\n",
      "Epoch 5/20\n",
      "200/200 [==============================] - 95s 475ms/step - loss: 1.3332 - acc: 0.7555 - val_loss: 1.1689 - val_acc: 0.7766\n",
      "Epoch 6/20\n",
      "200/200 [==============================] - 96s 479ms/step - loss: 0.9520 - acc: 0.8106 - val_loss: 0.8989 - val_acc: 0.8063\n",
      "Epoch 7/20\n",
      "200/200 [==============================] - 95s 475ms/step - loss: 0.7117 - acc: 0.8495 - val_loss: 0.8235 - val_acc: 0.8125\n",
      "Epoch 8/20\n",
      "200/200 [==============================] - 95s 474ms/step - loss: 0.5644 - acc: 0.8750 - val_loss: 0.5968 - val_acc: 0.8406\n",
      "Epoch 9/20\n",
      "200/200 [==============================] - 95s 475ms/step - loss: 0.4398 - acc: 0.8989 - val_loss: 0.5282 - val_acc: 0.8672\n",
      "Epoch 10/20\n",
      "200/200 [==============================] - 95s 476ms/step - loss: 0.4067 - acc: 0.9052 - val_loss: 0.5777 - val_acc: 0.8578\n",
      "Epoch 11/20\n",
      "200/200 [==============================] - 96s 480ms/step - loss: 0.3490 - acc: 0.9122 - val_loss: 0.4224 - val_acc: 0.8828\n",
      "Epoch 12/20\n",
      "200/200 [==============================] - 96s 479ms/step - loss: 0.3012 - acc: 0.9258 - val_loss: 0.4436 - val_acc: 0.8719\n",
      "Epoch 13/20\n",
      "200/200 [==============================] - 96s 480ms/step - loss: 0.2629 - acc: 0.9361 - val_loss: 0.3578 - val_acc: 0.8984\n",
      "Epoch 14/20\n",
      "200/200 [==============================] - 97s 485ms/step - loss: 0.2512 - acc: 0.9356 - val_loss: 0.3539 - val_acc: 0.8922\n",
      "Epoch 15/20\n",
      "200/200 [==============================] - 96s 480ms/step - loss: 0.2246 - acc: 0.9430 - val_loss: 0.3163 - val_acc: 0.9062\n",
      "Epoch 16/20\n",
      "200/200 [==============================] - 96s 479ms/step - loss: 0.2049 - acc: 0.9473 - val_loss: 0.3280 - val_acc: 0.8969\n",
      "Epoch 17/20\n",
      "200/200 [==============================] - 96s 482ms/step - loss: 0.2112 - acc: 0.9416 - val_loss: 0.2927 - val_acc: 0.9094\n",
      "Epoch 18/20\n",
      "200/200 [==============================] - 95s 473ms/step - loss: 0.1887 - acc: 0.9509 - val_loss: 0.3428 - val_acc: 0.9031\n",
      "Epoch 19/20\n",
      "200/200 [==============================] - 96s 481ms/step - loss: 0.1736 - acc: 0.9544 - val_loss: 0.2789 - val_acc: 0.9234\n",
      "Epoch 20/20\n",
      "200/200 [==============================] - 97s 483ms/step - loss: 0.1502 - acc: 0.9581 - val_loss: 0.3239 - val_acc: 0.9000\n"
     ]
    }
   ],
   "source": [
    "single_history = single_model.fit_generator(generator=single_train_gen,\n",
    "                    validation_data=single_valid_gen,\n",
    "                    epochs=20, steps_per_epoch=200, validation_steps=20 )"
   ]
  },
  {
   "cell_type": "code",
   "execution_count": 11,
   "metadata": {
    "scrolled": false
   },
   "outputs": [
    {
     "data": {
      "image/png": "[encoded data removed]",
      "text/plain": [
       "<Figure size 432x288 with 1 Axes>"
      ]
     },
     "metadata": {},
     "output_type": "display_data"
    }
   ],
   "source": [
    "plt.plot(single_history.history['acc'])\n",
    "plt.plot(single_history.history['val_acc'])\n",
    "plt.show()"
   ]
  },
  {
   "cell_type": "code",
   "execution_count": null,
   "metadata": {
    "scrolled": false
   },
   "outputs": [],
   "source": [
    "single_model.layers"
   ]
  },
  {
   "cell_type": "code",
   "execution_count": null,
   "metadata": {},
   "outputs": [],
   "source": [
    "single_model.summary()"
   ]
  },
  {
   "cell_type": "code",
   "execution_count": 12,
   "metadata": {},
   "outputs": [],
   "source": [
    "for la in single_model.layers:\n",
    "    la.trainable = False"
   ]
  },
  {
   "cell_type": "code",
   "execution_count": 13,
   "metadata": {},
   "outputs": [],
   "source": [
    "single_model2 = Sequential()\n",
    "single_model2.add(Dense(200, input_dim=400))\n",
    "single_model2.add(BatchNormalization())\n",
    "single_model2.add(Activation('relu'))\n",
    "single_model2.add(Dense(50))\n",
    "single_model2.add(BatchNormalization())\n",
    "single_model2.add(Activation('relu'))\n",
    "single_model2.add(Dense(194))\n",
    "single_model2.add(Activation('softmax'))\n",
    "single_model2.set_weights(single_model.get_weights())\n",
    "for layer in single_model2.layers:\n",
    "    layer.trainable = False"
   ]
  },
  {
   "cell_type": "code",
   "execution_count": null,
   "metadata": {
    "scrolled": true
   },
   "outputs": [],
   "source": [
    "comp_model.summary()"
   ]
  },
  {
   "cell_type": "code",
   "execution_count": 14,
   "metadata": {},
   "outputs": [],
   "source": [
    "from lib.list_generator import ListGenerator2\n",
    "list2_train_gen =  ListGenerator2(train_files, mean=mean, disper=disper)\n",
    "list2_valid_gen = ListGenerator2(valid_files, mean=mean, disper=disper)\n"
   ]
  },
  {
   "cell_type": "code",
   "execution_count": null,
   "metadata": {},
   "outputs": [],
   "source": [
    "\n",
    "x00 = Input(shape=(400,))\n",
    "x10 = Input(shape=(400,))\n",
    "x0 = single_model(x00)\n",
    "x1 =single_model2(x10)\n",
    "x = Concatenate(axis=1)([x0, x1])\n",
    "x = Dense(20)(x)\n",
    "x = Activation('relu')(x)\n",
    "x = Dense(1)(x)\n",
    "res = Activation('sigmoid')(x)\n",
    "comp2_model = Model(inputs=[x00, x10], outputs=[res])"
   ]
  },
  {
   "cell_type": "code",
   "execution_count": null,
   "metadata": {},
   "outputs": [],
   "source": [
    "comp2_model.compile(optimizer='rmsprop',\n",
    "              loss='binary_crossentropy',\n",
    "              metrics=['accuracy',rejection, acceptance, eer])"
   ]
  },
  {
   "cell_type": "code",
   "execution_count": null,
   "metadata": {},
   "outputs": [],
   "source": [
    "comp2_history = comp2_model.fit_generator(generator=list2_train_gen,\n",
    "                    validation_data=list2_valid_gen,\n",
    "                    epochs=1, steps_per_epoch=200, validation_steps=20 )"
   ]
  },
  {
   "cell_type": "code",
   "execution_count": null,
   "metadata": {},
   "outputs": [],
   "source": [
    "plt.plot(comp2_history.history['eer'])\n",
    "plt.plot(comp2_history.history['val_eer'])\n",
    "plt.show()"
   ]
  },
  {
   "cell_type": "code",
   "execution_count": null,
   "metadata": {},
   "outputs": [],
   "source": []
  },
  {
   "cell_type": "code",
   "execution_count": 15,
   "metadata": {},
   "outputs": [],
   "source": [
    "out0 = single_model.layers[5].output\n",
    "out1 = single_model2.layers[5].output\n",
    "\n",
    "x = Concatenate(axis=-1)([out0, out1])\n",
    "x = Dense(50)(x)\n",
    "x = BatchNormalization()(x)\n",
    "x = Activation('relu')(x)\n",
    "x = Dense(20)(x)\n",
    "x = BatchNormalization()(x)\n",
    "x = Activation('relu')(x)\n",
    "x = Dense(1)(x)\n",
    "res = Activation('sigmoid')(x)"
   ]
  },
  {
   "cell_type": "code",
   "execution_count": 16,
   "metadata": {},
   "outputs": [],
   "source": [
    "comp_model = Model(inputs=[single_model.input, single_model2.input], outputs=[res])"
   ]
  },
  {
   "cell_type": "code",
   "execution_count": 17,
   "metadata": {},
   "outputs": [],
   "source": [
    "comp_model.compile(optimizer='rmsprop',\n",
    "              loss='binary_crossentropy',\n",
    "              metrics=['accuracy',rejection, acceptance, eer])"
   ]
  },
  {
   "cell_type": "code",
   "execution_count": 18,
   "metadata": {},
   "outputs": [
    {
     "name": "stdout",
     "output_type": "stream",
     "text": [
      "Epoch 1/50\n",
      "200/200 [==============================] - 247s 1s/step - loss: 0.6292 - acc: 0.6413 - rejection: 0.1761 - acceptance: 0.1827 - eer: 0.6416 - val_loss: 0.5519 - val_acc: 0.7328 - val_rejection: 0.1187 - val_acceptance: 0.1484 - val_eer: 0.7188\n",
      "Epoch 2/50\n",
      "200/200 [==============================] - 235s 1s/step - loss: 0.5028 - acc: 0.7683 - rejection: 0.0923 - acceptance: 0.1394 - eer: 0.7628 - val_loss: 0.4808 - val_acc: 0.7672 - val_rejection: 0.1250 - val_acceptance: 0.1078 - val_eer: 0.7719\n",
      "Epoch 3/50\n",
      "200/200 [==============================] - 236s 1s/step - loss: 0.4199 - acc: 0.8091 - rejection: 0.0747 - acceptance: 0.1163 - eer: 0.8084 - val_loss: 0.3852 - val_acc: 0.8234 - val_rejection: 0.1172 - val_acceptance: 0.0594 - val_eer: 0.8406\n",
      "Epoch 4/50\n",
      "200/200 [==============================] - 235s 1s/step - loss: 0.3558 - acc: 0.8395 - rejection: 0.0633 - acceptance: 0.0972 - eer: 0.8387 - val_loss: 0.3169 - val_acc: 0.8641 - val_rejection: 0.0563 - val_acceptance: 0.0797 - val_eer: 0.8656\n",
      "Epoch 5/50\n",
      "200/200 [==============================] - 236s 1s/step - loss: 0.3448 - acc: 0.8473 - rejection: 0.0580 - acceptance: 0.0947 - eer: 0.8434 - val_loss: 0.3268 - val_acc: 0.8500 - val_rejection: 0.0625 - val_acceptance: 0.0875 - val_eer: 0.8594\n",
      "Epoch 6/50\n",
      "200/200 [==============================] - 233s 1s/step - loss: 0.3062 - acc: 0.8711 - rejection: 0.0512 - acceptance: 0.0777 - eer: 0.8684 - val_loss: 0.2905 - val_acc: 0.8812 - val_rejection: 0.0469 - val_acceptance: 0.0719 - val_eer: 0.8719\n",
      "Epoch 7/50\n",
      "200/200 [==============================] - 235s 1s/step - loss: 0.2974 - acc: 0.8697 - rejection: 0.0530 - acceptance: 0.0773 - eer: 0.8688 - val_loss: 0.2899 - val_acc: 0.8656 - val_rejection: 0.0375 - val_acceptance: 0.0969 - val_eer: 0.8781\n",
      "Epoch 8/50\n",
      "200/200 [==============================] - 233s 1s/step - loss: 0.2838 - acc: 0.8759 - rejection: 0.0486 - acceptance: 0.0755 - eer: 0.8731 - val_loss: 0.2930 - val_acc: 0.8766 - val_rejection: 0.0359 - val_acceptance: 0.0875 - val_eer: 0.8719\n",
      "Epoch 9/50\n",
      "200/200 [==============================] - 231s 1s/step - loss: 0.2846 - acc: 0.8767 - rejection: 0.0516 - acceptance: 0.0717 - eer: 0.8725 - val_loss: 0.3094 - val_acc: 0.8641 - val_rejection: 0.0469 - val_acceptance: 0.0891 - val_eer: 0.8625\n",
      "Epoch 10/50\n",
      "200/200 [==============================] - 236s 1s/step - loss: 0.2686 - acc: 0.8869 - rejection: 0.0477 - acceptance: 0.0655 - eer: 0.8866 - val_loss: 0.2935 - val_acc: 0.8734 - val_rejection: 0.0328 - val_acceptance: 0.0938 - val_eer: 0.8812\n",
      "Epoch 11/50\n",
      "200/200 [==============================] - 237s 1s/step - loss: 0.2648 - acc: 0.8927 - rejection: 0.0462 - acceptance: 0.0611 - eer: 0.8881 - val_loss: 0.2645 - val_acc: 0.8922 - val_rejection: 0.0281 - val_acceptance: 0.0797 - val_eer: 0.8969\n",
      "Epoch 12/50\n",
      "200/200 [==============================] - 237s 1s/step - loss: 0.2682 - acc: 0.8880 - rejection: 0.0481 - acceptance: 0.0639 - eer: 0.8869 - val_loss: 0.2440 - val_acc: 0.9031 - val_rejection: 0.0297 - val_acceptance: 0.0672 - val_eer: 0.8969\n",
      "Epoch 13/50\n",
      "200/200 [==============================] - 234s 1s/step - loss: 0.2556 - acc: 0.8942 - rejection: 0.0444 - acceptance: 0.0614 - eer: 0.8903 - val_loss: 0.3143 - val_acc: 0.8703 - val_rejection: 0.0547 - val_acceptance: 0.0750 - val_eer: 0.8812\n",
      "Epoch 14/50\n",
      "200/200 [==============================] - 236s 1s/step - loss: 0.2549 - acc: 0.8978 - rejection: 0.0411 - acceptance: 0.0611 - eer: 0.8947 - val_loss: 0.2634 - val_acc: 0.8875 - val_rejection: 0.0437 - val_acceptance: 0.0688 - val_eer: 0.8969\n",
      "Epoch 15/50\n",
      "200/200 [==============================] - 238s 1s/step - loss: 0.2466 - acc: 0.8975 - rejection: 0.0442 - acceptance: 0.0583 - eer: 0.8950 - val_loss: 0.2748 - val_acc: 0.8859 - val_rejection: 0.0516 - val_acceptance: 0.0625 - val_eer: 0.8844\n",
      "Epoch 16/50\n",
      "200/200 [==============================] - 234s 1s/step - loss: 0.2574 - acc: 0.8902 - rejection: 0.0461 - acceptance: 0.0638 - eer: 0.8903 - val_loss: 0.2425 - val_acc: 0.8938 - val_rejection: 0.0391 - val_acceptance: 0.0672 - val_eer: 0.8969\n",
      "Epoch 17/50\n",
      "200/200 [==============================] - 235s 1s/step - loss: 0.2390 - acc: 0.9009 - rejection: 0.0383 - acceptance: 0.0608 - eer: 0.8988 - val_loss: 0.2550 - val_acc: 0.8859 - val_rejection: 0.0641 - val_acceptance: 0.0500 - val_eer: 0.9000\n",
      "Epoch 18/50\n",
      "200/200 [==============================] - 235s 1s/step - loss: 0.2343 - acc: 0.9044 - rejection: 0.0400 - acceptance: 0.0556 - eer: 0.9031 - val_loss: 0.2801 - val_acc: 0.8797 - val_rejection: 0.0219 - val_acceptance: 0.0984 - val_eer: 0.8812\n",
      "Epoch 19/50\n",
      "200/200 [==============================] - 235s 1s/step - loss: 0.2465 - acc: 0.8995 - rejection: 0.0431 - acceptance: 0.0573 - eer: 0.9012 - val_loss: 0.2396 - val_acc: 0.9000 - val_rejection: 0.0484 - val_acceptance: 0.0516 - val_eer: 0.9094\n",
      "Epoch 20/50\n",
      "200/200 [==============================] - 236s 1s/step - loss: 0.2342 - acc: 0.9017 - rejection: 0.0403 - acceptance: 0.0580 - eer: 0.9012 - val_loss: 0.2534 - val_acc: 0.9000 - val_rejection: 0.0281 - val_acceptance: 0.0719 - val_eer: 0.8906\n",
      "Epoch 21/50\n",
      "200/200 [==============================] - 238s 1s/step - loss: 0.2343 - acc: 0.9061 - rejection: 0.0380 - acceptance: 0.0559 - eer: 0.9016 - val_loss: 0.2164 - val_acc: 0.9156 - val_rejection: 0.0141 - val_acceptance: 0.0703 - val_eer: 0.9031\n",
      "Epoch 22/50\n",
      "200/200 [==============================] - 237s 1s/step - loss: 0.2294 - acc: 0.8998 - rejection: 0.0428 - acceptance: 0.0573 - eer: 0.9031 - val_loss: 0.2489 - val_acc: 0.8953 - val_rejection: 0.0281 - val_acceptance: 0.0766 - val_eer: 0.9125\n",
      "Epoch 23/50\n",
      "200/200 [==============================] - 237s 1s/step - loss: 0.2281 - acc: 0.9058 - rejection: 0.0413 - acceptance: 0.0530 - eer: 0.9028 - val_loss: 0.2411 - val_acc: 0.8984 - val_rejection: 0.0344 - val_acceptance: 0.0672 - val_eer: 0.9062\n",
      "Epoch 24/50\n",
      "200/200 [==============================] - 235s 1s/step - loss: 0.2168 - acc: 0.9097 - rejection: 0.0352 - acceptance: 0.0552 - eer: 0.9106 - val_loss: 0.2196 - val_acc: 0.9094 - val_rejection: 0.0344 - val_acceptance: 0.0563 - val_eer: 0.9281\n",
      "Epoch 25/50\n",
      "200/200 [==============================] - 237s 1s/step - loss: 0.2332 - acc: 0.9000 - rejection: 0.0403 - acceptance: 0.0597 - eer: 0.8994 - val_loss: 0.2371 - val_acc: 0.9000 - val_rejection: 0.0312 - val_acceptance: 0.0688 - val_eer: 0.9062\n",
      "Epoch 26/50\n",
      "200/200 [==============================] - 237s 1s/step - loss: 0.2252 - acc: 0.9067 - rejection: 0.0381 - acceptance: 0.0552 - eer: 0.9022 - val_loss: 0.2564 - val_acc: 0.8891 - val_rejection: 0.0500 - val_acceptance: 0.0609 - val_eer: 0.8812\n",
      "Epoch 27/50\n",
      "200/200 [==============================] - 239s 1s/step - loss: 0.2231 - acc: 0.9083 - rejection: 0.0387 - acceptance: 0.0530 - eer: 0.9053 - val_loss: 0.2620 - val_acc: 0.8984 - val_rejection: 0.0281 - val_acceptance: 0.0734 - val_eer: 0.8781\n",
      "Epoch 28/50\n",
      "200/200 [==============================] - 232s 1s/step - loss: 0.2267 - acc: 0.9059 - rejection: 0.0405 - acceptance: 0.0536 - eer: 0.9044 - val_loss: 0.2039 - val_acc: 0.9172 - val_rejection: 0.0250 - val_acceptance: 0.0578 - val_eer: 0.9125\n",
      "Epoch 29/50\n",
      "200/200 [==============================] - 236s 1s/step - loss: 0.2137 - acc: 0.9108 - rejection: 0.0383 - acceptance: 0.0509 - eer: 0.9069 - val_loss: 0.2325 - val_acc: 0.9031 - val_rejection: 0.0266 - val_acceptance: 0.0703 - val_eer: 0.9062\n",
      "Epoch 30/50\n",
      "200/200 [==============================] - 237s 1s/step - loss: 0.2134 - acc: 0.9119 - rejection: 0.0370 - acceptance: 0.0511 - eer: 0.9106 - val_loss: 0.1936 - val_acc: 0.9219 - val_rejection: 0.0328 - val_acceptance: 0.0453 - val_eer: 0.9281\n",
      "Epoch 31/50\n",
      "200/200 [==============================] - 235s 1s/step - loss: 0.2150 - acc: 0.9148 - rejection: 0.0362 - acceptance: 0.0489 - eer: 0.9166 - val_loss: 0.2235 - val_acc: 0.9109 - val_rejection: 0.0250 - val_acceptance: 0.0641 - val_eer: 0.9031\n",
      "Epoch 32/50\n",
      "200/200 [==============================] - 238s 1s/step - loss: 0.2167 - acc: 0.9111 - rejection: 0.0359 - acceptance: 0.0530 - eer: 0.9087 - val_loss: 0.2141 - val_acc: 0.9094 - val_rejection: 0.0359 - val_acceptance: 0.0547 - val_eer: 0.9125\n",
      "Epoch 33/50\n"
     ]
    },
    {
     "name": "stdout",
     "output_type": "stream",
     "text": [
      "200/200 [==============================] - 236s 1s/step - loss: 0.2152 - acc: 0.9103 - rejection: 0.0381 - acceptance: 0.0516 - eer: 0.9106 - val_loss: 0.2303 - val_acc: 0.9047 - val_rejection: 0.0406 - val_acceptance: 0.0547 - val_eer: 0.9000\n",
      "Epoch 34/50\n",
      "200/200 [==============================] - 236s 1s/step - loss: 0.2119 - acc: 0.9156 - rejection: 0.0344 - acceptance: 0.0500 - eer: 0.9144 - val_loss: 0.2028 - val_acc: 0.9203 - val_rejection: 0.0281 - val_acceptance: 0.0516 - val_eer: 0.9313\n",
      "Epoch 35/50\n",
      "200/200 [==============================] - 236s 1s/step - loss: 0.2187 - acc: 0.9114 - rejection: 0.0355 - acceptance: 0.0531 - eer: 0.9097 - val_loss: 0.2309 - val_acc: 0.9031 - val_rejection: 0.0234 - val_acceptance: 0.0734 - val_eer: 0.9062\n",
      "Epoch 36/50\n",
      "200/200 [==============================] - 236s 1s/step - loss: 0.2169 - acc: 0.9130 - rejection: 0.0359 - acceptance: 0.0511 - eer: 0.9116 - val_loss: 0.2336 - val_acc: 0.9000 - val_rejection: 0.0328 - val_acceptance: 0.0672 - val_eer: 0.8969\n",
      "Epoch 37/50\n",
      "200/200 [==============================] - 237s 1s/step - loss: 0.2277 - acc: 0.9031 - rejection: 0.0408 - acceptance: 0.0561 - eer: 0.9078 - val_loss: 0.2445 - val_acc: 0.8984 - val_rejection: 0.0359 - val_acceptance: 0.0656 - val_eer: 0.8969\n",
      "Epoch 38/50\n",
      "200/200 [==============================] - 236s 1s/step - loss: 0.2140 - acc: 0.9163 - rejection: 0.0362 - acceptance: 0.0475 - eer: 0.9144 - val_loss: 0.2514 - val_acc: 0.8844 - val_rejection: 0.0391 - val_acceptance: 0.0766 - val_eer: 0.8969\n",
      "Epoch 39/50\n",
      "200/200 [==============================] - 233s 1s/step - loss: 0.2093 - acc: 0.9134 - rejection: 0.0378 - acceptance: 0.0488 - eer: 0.9119 - val_loss: 0.2553 - val_acc: 0.8859 - val_rejection: 0.0453 - val_acceptance: 0.0688 - val_eer: 0.8844\n",
      "Epoch 40/50\n",
      "200/200 [==============================] - 240s 1s/step - loss: 0.2056 - acc: 0.9195 - rejection: 0.0328 - acceptance: 0.0477 - eer: 0.9191 - val_loss: 0.2345 - val_acc: 0.9016 - val_rejection: 0.0422 - val_acceptance: 0.0563 - val_eer: 0.8938\n",
      "Epoch 41/50\n",
      "200/200 [==============================] - 233s 1s/step - loss: 0.2184 - acc: 0.9100 - rejection: 0.0367 - acceptance: 0.0533 - eer: 0.9056 - val_loss: 0.2157 - val_acc: 0.9031 - val_rejection: 0.0297 - val_acceptance: 0.0672 - val_eer: 0.9094\n",
      "Epoch 42/50\n",
      "200/200 [==============================] - 231s 1s/step - loss: 0.2013 - acc: 0.9205 - rejection: 0.0350 - acceptance: 0.0445 - eer: 0.9153 - val_loss: 0.2234 - val_acc: 0.9000 - val_rejection: 0.0281 - val_acceptance: 0.0719 - val_eer: 0.9187\n",
      "Epoch 43/50\n",
      "200/200 [==============================] - 235s 1s/step - loss: 0.2146 - acc: 0.9152 - rejection: 0.0344 - acceptance: 0.0505 - eer: 0.9113 - val_loss: 0.2133 - val_acc: 0.9109 - val_rejection: 0.0375 - val_acceptance: 0.0516 - val_eer: 0.9094\n",
      "Epoch 44/50\n",
      "200/200 [==============================] - 234s 1s/step - loss: 0.1995 - acc: 0.9163 - rejection: 0.0345 - acceptance: 0.0492 - eer: 0.9156 - val_loss: 0.2024 - val_acc: 0.9281 - val_rejection: 0.0219 - val_acceptance: 0.0500 - val_eer: 0.9281\n",
      "Epoch 45/50\n",
      "200/200 [==============================] - 230s 1s/step - loss: 0.2094 - acc: 0.9139 - rejection: 0.0348 - acceptance: 0.0512 - eer: 0.9119 - val_loss: 0.2293 - val_acc: 0.9031 - val_rejection: 0.0234 - val_acceptance: 0.0734 - val_eer: 0.9031\n",
      "Epoch 46/50\n",
      "200/200 [==============================] - 231s 1s/step - loss: 0.2089 - acc: 0.9161 - rejection: 0.0341 - acceptance: 0.0498 - eer: 0.9153 - val_loss: 0.2082 - val_acc: 0.9187 - val_rejection: 0.0203 - val_acceptance: 0.0609 - val_eer: 0.9344\n",
      "Epoch 47/50\n",
      "200/200 [==============================] - 233s 1s/step - loss: 0.2022 - acc: 0.9175 - rejection: 0.0355 - acceptance: 0.0470 - eer: 0.9156 - val_loss: 0.2156 - val_acc: 0.9109 - val_rejection: 0.0422 - val_acceptance: 0.0469 - val_eer: 0.9062\n",
      "Epoch 48/50\n",
      "200/200 [==============================] - 233s 1s/step - loss: 0.2063 - acc: 0.9173 - rejection: 0.0352 - acceptance: 0.0475 - eer: 0.9181 - val_loss: 0.2135 - val_acc: 0.9109 - val_rejection: 0.0312 - val_acceptance: 0.0578 - val_eer: 0.9219\n",
      "Epoch 49/50\n",
      "200/200 [==============================] - 235s 1s/step - loss: 0.2067 - acc: 0.9150 - rejection: 0.0350 - acceptance: 0.0500 - eer: 0.9141 - val_loss: 0.2482 - val_acc: 0.9062 - val_rejection: 0.0219 - val_acceptance: 0.0719 - val_eer: 0.9062\n",
      "Epoch 50/50\n",
      "200/200 [==============================] - 234s 1s/step - loss: 0.2094 - acc: 0.9159 - rejection: 0.0359 - acceptance: 0.0481 - eer: 0.9153 - val_loss: 0.2017 - val_acc: 0.9156 - val_rejection: 0.0328 - val_acceptance: 0.0516 - val_eer: 0.9187\n"
     ]
    }
   ],
   "source": [
    "comp_history = comp_model.fit_generator(generator=list2_train_gen,\n",
    "                    validation_data=list2_valid_gen,\n",
    "                    epochs=50, steps_per_epoch=200, validation_steps=20 )"
   ]
  },
  {
   "cell_type": "code",
   "execution_count": 19,
   "metadata": {},
   "outputs": [
    {
     "data": {
      "image/png": "[encoded data removed]",
      "text/plain": [
       "<Figure size 432x288 with 1 Axes>"
      ]
     },
     "metadata": {},
     "output_type": "display_data"
    }
   ],
   "source": [
    "plt.plot(comp_history.history['eer'])\n",
    "plt.plot(comp_history.history['val_eer'])\n",
    "plt.show()"
   ]
  },
  {
   "cell_type": "code",
   "execution_count": null,
   "metadata": {},
   "outputs": [],
   "source": []
  },
  {
   "cell_type": "code",
   "execution_count": null,
   "metadata": {},
   "outputs": [],
   "source": [
    "dense1 = single_model.layers[0]\n",
    "bn1 = single_model.layers[1]\n",
    "act1 = single_model.layers[2]\n",
    "dense2 = single_model.layers[3]\n",
    "bn2 = single_model.layers[4]\n",
    "act2 = single_model.layers[5]"
   ]
  },
  {
   "cell_type": "code",
   "execution_count": null,
   "metadata": {},
   "outputs": [],
   "source": [
    "single_model.summary()"
   ]
  },
  {
   "cell_type": "code",
   "execution_count": null,
   "metadata": {},
   "outputs": [],
   "source": [
    "for la in single_model.layers[0:6]:\n",
    "    la.trainable = False"
   ]
  },
  {
   "cell_type": "code",
   "execution_count": null,
   "metadata": {},
   "outputs": [],
   "source": [
    "dense1.trainable = False\n",
    "bn1.trainable = False\n",
    "act1.trainable = False\n",
    "dense2.trainable = False\n",
    "bn2.trainable = False\n",
    "act2.trainable = False"
   ]
  },
  {
   "cell_type": "code",
   "execution_count": null,
   "metadata": {},
   "outputs": [],
   "source": [
    "list_train_gen = ListGenerator(train_files, mean=mean, disper=disper)\n",
    "list_valid_gen = ListGenerator(valid_files, mean=mean, disper=disper)"
   ]
  },
  {
   "cell_type": "code",
   "execution_count": null,
   "metadata": {},
   "outputs": [],
   "source": [
    "# *** Compiled model ***\n",
    "a1 = Input(shape=(400,))\n",
    "a2 = Input(shape=(400,))\n",
    "b1 = dense1(a1)\n",
    "b2 = dense1(a2)\n",
    "c1 = bn1(b1)\n",
    "c2 = bn1(b2)\n",
    "d1 = act1(c1)\n",
    "d2 = act1(c2)\n",
    "e1 = dense2(d1)\n",
    "e2 = dense2(d2)\n",
    "f1 = bn2(e1)\n",
    "f2 = bn2(e2)\n",
    "g1 = act2(f1)\n",
    "g2 = act2(f2)\n",
    "\n",
    "resh = Concatenate(axis=-1)([g1, g2])\n",
    "j = Dense(20)(resh)\n",
    "i = BatchNormalization()(j)\n",
    "k = Activation('relu')(i)\n",
    "l = Dense(1)(k)\n",
    "res = Activation('sigmoid')(l)\n",
    "compiled_model = Model(inputs=[a1, a2], outputs=[res])"
   ]
  },
  {
   "cell_type": "code",
   "execution_count": null,
   "metadata": {},
   "outputs": [],
   "source": [
    "compiled_model.compile(optimizer='rmsprop',\n",
    "              loss='binary_crossentropy',\n",
    "              metrics=['accuracy',rejection, acceptance, eer])"
   ]
  },
  {
   "cell_type": "code",
   "execution_count": null,
   "metadata": {},
   "outputs": [],
   "source": [
    "compiled_history = compiled_model.fit_generator(generator=list_train_gen,\n",
    "                    validation_data=list_valid_gen,\n",
    "                    epochs=10, steps_per_epoch=200, validation_steps=20 )"
   ]
  },
  {
   "cell_type": "code",
   "execution_count": null,
   "metadata": {
    "scrolled": true
   },
   "outputs": [],
   "source": [
    "plt.plot(compiled_history.history['eer'])\n",
    "plt.plot(compiled_history.history['val_eer'])\n",
    "plt.show()"
   ]
  },
  {
   "cell_type": "code",
   "execution_count": null,
   "metadata": {},
   "outputs": [],
   "source": []
  },
  {
   "cell_type": "code",
   "execution_count": null,
   "metadata": {},
   "outputs": [],
   "source": [
    "p = re.compile('/([0-9]+)')\n",
    "test_id_list = list({p.search(file).group(1) for file in glob.glob('./../Data/test_db/*')})\n",
    "len(test_id_list)"
   ]
  },
  {
   "cell_type": "code",
   "execution_count": null,
   "metadata": {
    "scrolled": true
   },
   "outputs": [],
   "source": [
    "test_files = [file for file in glob.glob('./../Data/test_db/*')]\n",
    "test_gen = SingleGenerator(test_files, id_list=id_list, mean=mean, disper=disper)\n",
    "\n",
    "a = single_model.evaluate_generator(test_gen)\n",
    "a"
   ]
  },
  {
   "cell_type": "code",
   "execution_count": null,
   "metadata": {
    "scrolled": true
   },
   "outputs": [],
   "source": [
    "test_list_gen = ListGenerator(test_files, mean=mean, disper=disper)\n",
    "b = comp2_model.evaluate_generator(test_list_gen)\n",
    "b"
   ]
  },
  {
   "cell_type": "code",
   "execution_count": null,
   "metadata": {},
   "outputs": [],
   "source": [
    "single_model2.compile(optimizer='rmsprop',\n",
    "              loss='categorical_crossentropy',\n",
    "              metrics=['accuracy'])"
   ]
  },
  {
   "cell_type": "code",
   "execution_count": null,
   "metadata": {
    "scrolled": true
   },
   "outputs": [],
   "source": [
    "single_model2.pop()\n",
    "single_model2.pop()\n"
   ]
  },
  {
   "cell_type": "code",
   "execution_count": null,
   "metadata": {},
   "outputs": [],
   "source": [
    "single_model2.summary()"
   ]
  },
  {
   "cell_type": "code",
   "execution_count": null,
   "metadata": {},
   "outputs": [],
   "source": [
    "# LAMBDA\n",
    "from keras.layers import Lambda, concatenate\n",
    "encoder = single_model2\n",
    "inp1 = Input(shape = (400,))\n",
    "inp2 = Input(shape= (400,))\n",
    "\n",
    "enc1 = Lambda(lambda x : encoder.predict(x))(inp1)\n",
    "enc2 = Lambda(lambda x : encoder.predict(x))(inp2)\n",
    "\n",
    "inp = concatenate([enc1,enc2], axis=1)\n",
    "\n",
    "x = Dense(100)(x)\n",
    "x = Activation('relu')(x)\n",
    "\n",
    "x = Dense(1)(x)\n",
    "output = Activation('sigmoid')(x)\n",
    "\n",
    "new_model = Model(inputs=[inp1,inp2], outputs=[output])"
   ]
  },
  {
   "cell_type": "code",
   "execution_count": null,
   "metadata": {},
   "outputs": [],
   "source": []
  }
 ],
 "metadata": {
  "kernelspec": {
   "display_name": "Python 3",
   "language": "python",
   "name": "python3"
  },
  "language_info": {
   "codemirror_mode": {
    "name": "ipython",
    "version": 3
   },
   "file_extension": ".py",
   "mimetype": "text/x-python",
   "name": "python",
   "nbconvert_exporter": "python",
   "pygments_lexer": "ipython3",
   "version": "3.6.3"
  }
 },
 "nbformat": 4,
 "nbformat_minor": 1
}
